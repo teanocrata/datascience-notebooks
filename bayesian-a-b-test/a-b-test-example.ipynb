{
 "cells": [
  {
   "cell_type": "markdown",
   "metadata": {},
   "source": [
    "# Bayesian A/B Test"
   ]
  },
  {
   "cell_type": "code",
   "execution_count": null,
   "metadata": {
    "collapsed": true
   },
   "outputs": [],
   "source": [
    "import numpy as np\n",
    "import pandas as pd"
   ]
  },
  {
   "cell_type": "markdown",
   "metadata": {},
   "source": [
    "## Generate some data"
   ]
  },
  {
   "cell_type": "code",
   "execution_count": null,
   "metadata": {
    "collapsed": true
   },
   "outputs": [],
   "source": [
    "blue_button_click_probability = .75\n",
    "red_button_click_probability = .7"
   ]
  },
  {
   "cell_type": "code",
   "execution_count": null,
   "metadata": {
    "collapsed": true
   },
   "outputs": [],
   "source": [
    "blue_button_clicks = np.random.binomial(n=1, p=blue_button_click_probability, size=250).astype(bool)"
   ]
  },
  {
   "cell_type": "code",
   "execution_count": null,
   "metadata": {
    "collapsed": false
   },
   "outputs": [],
   "source": [
    "red_button_clicks = np.random.binomial(n=1, p=red_button_click_probability, size=250).astype(bool)"
   ]
  },
  {
   "cell_type": "code",
   "execution_count": null,
   "metadata": {
    "collapsed": false
   },
   "outputs": [],
   "source": [
    "blue_button_clicks.mean()"
   ]
  },
  {
   "cell_type": "code",
   "execution_count": null,
   "metadata": {
    "collapsed": false
   },
   "outputs": [],
   "source": [
    "red_button_clicks.mean()"
   ]
  },
  {
   "cell_type": "markdown",
   "metadata": {},
   "source": [
    "### Create DataFrame"
   ]
  },
  {
   "cell_type": "code",
   "execution_count": null,
   "metadata": {
    "collapsed": false
   },
   "outputs": [],
   "source": [
    "blue_button_data = pd.DataFrame({'button_clicked': blue_button_clicks, 'button_color': 'blue'})"
   ]
  },
  {
   "cell_type": "code",
   "execution_count": null,
   "metadata": {
    "collapsed": false
   },
   "outputs": [],
   "source": [
    "red_button_data = pd.DataFrame({'button_clicked': red_button_clicks, 'button_color': 'red'})"
   ]
  },
  {
   "cell_type": "code",
   "execution_count": null,
   "metadata": {
    "collapsed": true
   },
   "outputs": [],
   "source": [
    "data = pd.concat([blue_button_data, red_button_data])"
   ]
  },
  {
   "cell_type": "markdown",
   "metadata": {},
   "source": [
    "### For the red button"
   ]
  },
  {
   "cell_type": "markdown",
   "metadata": {},
   "source": [
    "#### Value counts"
   ]
  },
  {
   "cell_type": "code",
   "execution_count": null,
   "metadata": {
    "collapsed": false
   },
   "outputs": [],
   "source": [
    "data[data['button_color'] == 'red']['button_clicked'].value_counts()"
   ]
  },
  {
   "cell_type": "markdown",
   "metadata": {},
   "source": [
    "#### Click frequency"
   ]
  },
  {
   "cell_type": "code",
   "execution_count": null,
   "metadata": {
    "collapsed": false
   },
   "outputs": [],
   "source": [
    "data[data['button_color'] == 'red']['button_clicked'].value_counts()[1] / (data[data['button_color'] == 'red']['button_clicked'].value_counts()[1] + data[data['button_color'] == 'red']['button_clicked'].value_counts()[0])"
   ]
  },
  {
   "cell_type": "markdown",
   "metadata": {},
   "source": [
    "### For the blue button"
   ]
  },
  {
   "cell_type": "markdown",
   "metadata": {},
   "source": [
    "#### Value counts"
   ]
  },
  {
   "cell_type": "code",
   "execution_count": null,
   "metadata": {
    "collapsed": false
   },
   "outputs": [],
   "source": [
    "data[data['button_color'] == 'blue']['button_clicked'].value_counts()"
   ]
  },
  {
   "cell_type": "markdown",
   "metadata": {},
   "source": [
    "#### Click frequency"
   ]
  },
  {
   "cell_type": "code",
   "execution_count": null,
   "metadata": {
    "collapsed": false
   },
   "outputs": [],
   "source": [
    "data[data['button_color'] == 'blue']['button_clicked'].value_counts()[1] / (data[data['button_color'] == 'blue']['button_clicked'].value_counts()[1] + data[data['button_color'] == 'blue']['button_clicked'].value_counts()[0])"
   ]
  },
  {
   "cell_type": "markdown",
   "metadata": {},
   "source": [
    "## Bayesian Inference"
   ]
  },
  {
   "cell_type": "code",
   "execution_count": null,
   "metadata": {
    "collapsed": false
   },
   "outputs": [],
   "source": [
    "import pymc3 as pm"
   ]
  },
  {
   "cell_type": "markdown",
   "metadata": {},
   "source": [
    "### Define random variables"
   ]
  },
  {
   "cell_type": "code",
   "execution_count": null,
   "metadata": {
    "collapsed": false
   },
   "outputs": [],
   "source": [
    "basic_model = pm.Model()\n",
    "\n",
    "with basic_model as model:\n",
    "    p_click_red_button = pm.Uniform('p_click_red_button', lower=0, upper=1)\n",
    "    p_click_blue_button = pm.Uniform('p_click_blue_button', lower=0, upper=1)\n",
    "    \n",
    "    relative_increase = pm.Deterministic('relative_increase', (p_click_red_button/p_click_blue_button) -1)\n",
    "\n",
    "    obs_red_button = pm.Bernoulli('obs_red_button', p=p_click_red_button, observed=red_button_clicks)\n",
    "    obs_blue_button = pm.Bernoulli('obs_blue_button', p_click_blue_button, observed=blue_button_clicks)"
   ]
  },
  {
   "cell_type": "markdown",
   "metadata": {},
   "source": [
    "## Fit a model"
   ]
  },
  {
   "cell_type": "code",
   "execution_count": null,
   "metadata": {
    "collapsed": false
   },
   "outputs": [],
   "source": [
    "#mcmc = pm.MCMC([p_click_red_button, p_click_blue_button, relative_increase, obs_red_button, obs_blue_button])\n",
    "#mcmc.sample(20000, 10000)\n",
    "with model:\n",
    "    trace = pm.sample(20000)\n",
    "\n"
   ]
  },
  {
   "cell_type": "code",
   "execution_count": null,
   "metadata": {
    "collapsed": false
   },
   "outputs": [],
   "source": [
    "trace.get_values(\"p_click_red_button\")"
   ]
  },
  {
   "cell_type": "markdown",
   "metadata": {},
   "source": [
    "## Visualize results"
   ]
  },
  {
   "cell_type": "code",
   "execution_count": null,
   "metadata": {
    "collapsed": false
   },
   "outputs": [],
   "source": [
    "%matplotlib inline\n",
    "\n",
    "import matplotlib.pyplot as plt"
   ]
  },
  {
   "cell_type": "markdown",
   "metadata": {},
   "source": [
    "### Individual posterior distributions"
   ]
  },
  {
   "cell_type": "code",
   "execution_count": null,
   "metadata": {
    "collapsed": true
   },
   "outputs": [],
   "source": [
    "def plot_individual_posteriors(p_click_red_button_samples, p_click_blue_button_samples):\n",
    "    plt.figure(figsize=(14.5, 6))\n",
    "    ax = plt.subplot(211)\n",
    "\n",
    "    plt.xlim(0, 1)\n",
    "    plt.hist(p_click_red_button_samples, histtype='stepfilled', bins=25, alpha=0.85,\n",
    "             label=\"Posterior of p_click_red_button\", color=\"#A60628\", normed=True)\n",
    "    plt.legend(loc=\"upper left\")\n",
    "    plt.title(\"Posterior Distributions of p_click_red_button, p_click_blue_button\")\n",
    "\n",
    "    ax = plt.subplot(212)\n",
    "\n",
    "    plt.xlim(0, 1)\n",
    "    plt.hist(p_click_blue_button_samples, histtype='stepfilled', bins=25, alpha=0.85,\n",
    "             label=\"Posterior of p_click_blue_button\", color=\"#0a8ecd\", normed=True)\n",
    "    plt.legend(loc=\"upper left\")"
   ]
  },
  {
   "cell_type": "code",
   "execution_count": null,
   "metadata": {
    "collapsed": false,
    "scrolled": true
   },
   "outputs": [],
   "source": [
    "p_click_red_button_samples = trace.get_values(\"p_click_red_button\")\n",
    "p_click_blue_button_samples =trace.get_values(\"p_click_blue_button\")"
   ]
  },
  {
   "cell_type": "code",
   "execution_count": null,
   "metadata": {
    "collapsed": false
   },
   "outputs": [],
   "source": [
    "plot_individual_posteriors(p_click_red_button_samples, p_click_blue_button_samples)"
   ]
  },
  {
   "cell_type": "markdown",
   "metadata": {},
   "source": [
    "### Relative increase distribution"
   ]
  },
  {
   "cell_type": "code",
   "execution_count": null,
   "metadata": {
    "collapsed": true
   },
   "outputs": [],
   "source": [
    "def plot_relative_increase_posterior(relative_increase_samples):\n",
    "    plt.figure(figsize=(14.5, 6))\n",
    "\n",
    "    plt.hist(relative_increase_samples, histtype='stepfilled', bins=30, alpha=0.85,\n",
    "             label=r\"\"\"$\\frac{p_{click\\_red}}{p_{click\\_blue}} - 1$\"\"\", color=\"#7A68A6\", normed=True)\n",
    "    plt.axvline(0, color='k', linestyle='--')\n",
    "    plt.title(\"\"\"Relative Increase In Button Clicks, Red Button vs. Blue Button\"\"\", size=20)\n",
    "    plt.legend(loc=\"upper right\", fontsize=35)\n",
    "    plt.tight_layout()"
   ]
  },
  {
   "cell_type": "code",
   "execution_count": null,
   "metadata": {
    "collapsed": false
   },
   "outputs": [],
   "source": [
    "relative_increase_samples = trace.get_values(\"relative_increase\")\n",
    "\n",
    "plot_relative_increase_posterior(relative_increase_samples)"
   ]
  },
  {
   "cell_type": "code",
   "execution_count": null,
   "metadata": {
    "collapsed": false
   },
   "outputs": [],
   "source": [
    "(relative_increase_samples < 0).mean()"
   ]
  },
  {
   "cell_type": "code",
   "execution_count": null,
   "metadata": {
    "collapsed": true
   },
   "outputs": [],
   "source": [
    "fifth_percentile = np.percentile(relative_increase_samples, 5)"
   ]
  },
  {
   "cell_type": "code",
   "execution_count": null,
   "metadata": {
    "collapsed": false
   },
   "outputs": [],
   "source": [
    "fifth_percentile"
   ]
  },
  {
   "cell_type": "code",
   "execution_count": null,
   "metadata": {
    "collapsed": true
   },
   "outputs": [],
   "source": [
    "ninety_fifth_percentile = np.percentile(relative_increase_samples, 95)"
   ]
  },
  {
   "cell_type": "code",
   "execution_count": null,
   "metadata": {
    "collapsed": false
   },
   "outputs": [],
   "source": [
    "ninety_fifth_percentile"
   ]
  },
  {
   "cell_type": "code",
   "execution_count": null,
   "metadata": {
    "collapsed": false
   },
   "outputs": [],
   "source": [
    "(relative_increase_samples > .05).mean()"
   ]
  }
 ],
 "metadata": {
  "kernelspec": {
   "display_name": "Python 3",
   "language": "python",
   "name": "python3"
  },
  "language_info": {
   "codemirror_mode": {
    "name": "ipython",
    "version": 3
   },
   "file_extension": ".py",
   "mimetype": "text/x-python",
   "name": "python",
   "nbconvert_exporter": "python",
   "pygments_lexer": "ipython3",
   "version": "3.4.5"
  }
 },
 "nbformat": 4,
 "nbformat_minor": 0
}
