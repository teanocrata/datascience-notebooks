{
 "cells": [
  {
   "cell_type": "markdown",
   "metadata": {},
   "source": [
    "![](http://i.imgur.com/hYgDqD4.png)"
   ]
  },
  {
   "cell_type": "markdown",
   "metadata": {},
   "source": [
    "# 5 different views for \"Philadelphia Crime DataTen Years of Crime Data, by OpenDataPhilly\"\n",
    "\n",
    "Pandas is an open source, BSD-licensed library providing high-performance, easy-to-use data structures and data analysis tools for the Python programming language. First of all, import pandas:"
   ]
  },
  {
   "cell_type": "code",
   "execution_count": null,
   "metadata": {
    "collapsed": true
   },
   "outputs": [],
   "source": [
    "import pandas as pd"
   ]
  },
  {
   "cell_type": "markdown",
   "metadata": {},
   "source": [
    "Reading data from the csv file (https://www.kaggle.com/mchirico/philadelphiacrimedata)"
   ]
  },
  {
   "cell_type": "code",
   "execution_count": null,
   "metadata": {
    "collapsed": true
   },
   "outputs": [],
   "source": [
    "data = pd.read_csv('crime.csv')"
   ]
  },
  {
   "cell_type": "markdown",
   "metadata": {},
   "source": [
    "To view a small sample of a Series or DataFrame object, use the head() and tail() methods. The default number of elements to display is five, but you may pass a custom number."
   ]
  },
  {
   "cell_type": "code",
   "execution_count": null,
   "metadata": {},
   "outputs": [],
   "source": [
    "data.head()"
   ]
  },
  {
   "cell_type": "code",
   "execution_count": null,
   "metadata": {},
   "outputs": [],
   "source": [
    "data.tail()"
   ]
  },
  {
   "cell_type": "markdown",
   "metadata": {},
   "source": [
    "Number of non-null observations for each variable (Notice that there is different values for some variables like UCR_General)"
   ]
  },
  {
   "cell_type": "code",
   "execution_count": null,
   "metadata": {},
   "outputs": [],
   "source": [
    "data.count()"
   ]
  },
  {
   "cell_type": "code",
   "execution_count": null,
   "metadata": {
    "collapsed": true
   },
   "outputs": [],
   "source": [
    "# Count of 1 for each record. Nice to have a standard column name\n",
    "data['Value'] = 1"
   ]
  },
  {
   "cell_type": "code",
   "execution_count": null,
   "metadata": {},
   "outputs": [],
   "source": [
    "data.head()"
   ]
  },
  {
   "cell_type": "markdown",
   "metadata": {},
   "source": [
    "The variable description at fields.csv"
   ]
  },
  {
   "cell_type": "code",
   "execution_count": null,
   "metadata": {
    "collapsed": true
   },
   "outputs": [],
   "source": [
    "field = pd.read_csv('fields.csv')"
   ]
  },
  {
   "cell_type": "code",
   "execution_count": null,
   "metadata": {},
   "outputs": [],
   "source": [
    "field"
   ]
  },
  {
   "cell_type": "markdown",
   "metadata": {},
   "source": [
    "## How may districts are there?"
   ]
  },
  {
   "cell_type": "code",
   "execution_count": null,
   "metadata": {},
   "outputs": [],
   "source": [
    "data['Dc_Dist'].unique()"
   ]
  },
  {
   "cell_type": "code",
   "execution_count": null,
   "metadata": {},
   "outputs": [],
   "source": [
    "data['Dc_Dist'].unique().shape[0]"
   ]
  },
  {
   "cell_type": "markdown",
   "metadata": {},
   "source": [
    "### What is the Total number of crimes in the data?"
   ]
  },
  {
   "cell_type": "code",
   "execution_count": null,
   "metadata": {},
   "outputs": [],
   "source": [
    "data['Value'].sum()"
   ]
  },
  {
   "cell_type": "markdown",
   "metadata": {},
   "source": [
    "## Visualize number of crimes per district"
   ]
  },
  {
   "cell_type": "code",
   "execution_count": null,
   "metadata": {
    "collapsed": true
   },
   "outputs": [],
   "source": [
    "import matplotlib.pyplot as plt"
   ]
  },
  {
   "cell_type": "code",
   "execution_count": null,
   "metadata": {
    "collapsed": true
   },
   "outputs": [],
   "source": [
    "import matplotlib\n",
    "matplotlib.style.use('ggplot')\n",
    "%matplotlib inline\n",
    "matplotlib.rcParams['figure.figsize'] = [16.0, 8.0]"
   ]
  },
  {
   "cell_type": "code",
   "execution_count": null,
   "metadata": {
    "collapsed": true
   },
   "outputs": [],
   "source": [
    "data['Dc_Dist'] = data['Dc_Dist'].astype(\"category\")"
   ]
  },
  {
   "cell_type": "code",
   "execution_count": null,
   "metadata": {
    "collapsed": true
   },
   "outputs": [],
   "source": [
    "data.head()"
   ]
  },
  {
   "cell_type": "code",
   "execution_count": null,
   "metadata": {
    "collapsed": true
   },
   "outputs": [],
   "source": [
    "data.dtypes"
   ]
  },
  {
   "cell_type": "code",
   "execution_count": null,
   "metadata": {},
   "outputs": [],
   "source": [
    "data['Dc_Dist'].value_counts()"
   ]
  },
  {
   "cell_type": "code",
   "execution_count": null,
   "metadata": {},
   "outputs": [],
   "source": [
    "data['Dc_Dist'].value_counts().plot.bar(title='Crimes by district (2006-2017)')"
   ]
  },
  {
   "cell_type": "code",
   "execution_count": null,
   "metadata": {},
   "outputs": [],
   "source": [
    "data['Text_General_Code'].value_counts().plot.barh(title='Crimes by type (2006-2017)')"
   ]
  },
  {
   "cell_type": "markdown",
   "metadata": {},
   "source": [
    "## Visualize data by date/time"
   ]
  },
  {
   "cell_type": "code",
   "execution_count": null,
   "metadata": {
    "collapsed": true
   },
   "outputs": [],
   "source": [
    "data['Dispatch_Date_Time'] = pd.to_datetime(data['Dispatch_Date_Time'])"
   ]
  },
  {
   "cell_type": "code",
   "execution_count": null,
   "metadata": {
    "collapsed": true
   },
   "outputs": [],
   "source": [
    "data['year'] = data['Dispatch_Date_Time'].dt.year"
   ]
  },
  {
   "cell_type": "code",
   "execution_count": null,
   "metadata": {},
   "outputs": [],
   "source": [
    "data.set_index(['Dispatch_Date_Time']).Value.resample('H').sum().plot(title='Hourly evolution of total crimes')"
   ]
  },
  {
   "cell_type": "code",
   "execution_count": null,
   "metadata": {},
   "outputs": [],
   "source": [
    "data.set_index(['Dispatch_Date_Time']).Value.resample('D').sum().plot(title='Daily evolution of total crimes')"
   ]
  },
  {
   "cell_type": "code",
   "execution_count": null,
   "metadata": {},
   "outputs": [],
   "source": [
    "data.set_index(['Dispatch_Date_Time']).Value.resample('M').sum().plot(title='Monthly evolution of total crimes')"
   ]
  },
  {
   "cell_type": "code",
   "execution_count": null,
   "metadata": {},
   "outputs": [],
   "source": [
    "data.groupby('year')['Value'].sum().drop([2017]).plot(title='Yearly evolution of total crimes')"
   ]
  },
  {
   "cell_type": "code",
   "execution_count": null,
   "metadata": {},
   "outputs": [],
   "source": [
    "pd.pivot_table(data, index=data.Dc_Dist, columns=data.Dispatch_Date_Time.dt.year, values='Value', aggfunc='sum').plot.bar(title='Evolution of crime by district')"
   ]
  },
  {
   "cell_type": "code",
   "execution_count": null,
   "metadata": {},
   "outputs": [],
   "source": [
    "pd.pivot_table(data, index=data.Text_General_Code, columns=data.Dispatch_Date_Time.dt.year, values='Value', aggfunc='sum').plot.bar(title='Evolution of crime by type')"
   ]
  },
  {
   "cell_type": "code",
   "execution_count": null,
   "metadata": {},
   "outputs": [],
   "source": [
    "data.groupby(data.Dispatch_Date_Time.dt.hour)['Value'].sum().plot(title='Total crimes per hour')"
   ]
  },
  {
   "cell_type": "markdown",
   "metadata": {},
   "source": [
    "## Visualize location data"
   ]
  },
  {
   "cell_type": "markdown",
   "metadata": {},
   "source": [
    "[gmaps](https://github.com/pbugnion/gmaps) is a plugin for Jupyter for embedding Google Maps in the notebook. Is built arround the idea of adding layers to a base map. You've to be authenticated with Google maps. Here we use environment variables to store the GOOGLE_API_KEY."
   ]
  },
  {
   "cell_type": "code",
   "execution_count": null,
   "metadata": {
    "collapsed": true
   },
   "outputs": [],
   "source": [
    "import gmaps\n",
    "import gmaps.datasets\n",
    "import os\n",
    "gmaps.configure(api_key=os.environ[\"GOOGLE_API_KEY\"])\n",
    "map2016 = gmaps.Map()"
   ]
  },
  {
   "cell_type": "code",
   "execution_count": null,
   "metadata": {
    "collapsed": true
   },
   "outputs": [],
   "source": [
    "locations2016 = data[data.year == 2016][['Lat', 'Lon']].dropna(how='any')"
   ]
  },
  {
   "cell_type": "code",
   "execution_count": null,
   "metadata": {
    "collapsed": true
   },
   "outputs": [],
   "source": [
    "map2016.add_layer(gmaps.heatmap_layer(locations2016, point_radius=6))"
   ]
  },
  {
   "cell_type": "markdown",
   "metadata": {},
   "source": [
    "### Distribution of crime in 2016"
   ]
  },
  {
   "cell_type": "code",
   "execution_count": null,
   "metadata": {},
   "outputs": [],
   "source": [
    "map2016"
   ]
  },
  {
   "cell_type": "code",
   "execution_count": null,
   "metadata": {
    "collapsed": true
   },
   "outputs": [],
   "source": [
    "locations2006 = data[data.year == 2006][['Lat', 'Lon']].dropna(how='any')"
   ]
  },
  {
   "cell_type": "code",
   "execution_count": null,
   "metadata": {
    "collapsed": true
   },
   "outputs": [],
   "source": [
    "m2006= gmaps.Map()"
   ]
  },
  {
   "cell_type": "code",
   "execution_count": null,
   "metadata": {
    "collapsed": true
   },
   "outputs": [],
   "source": [
    "m2006.add_layer(gmaps.heatmap_layer(locations2006, point_radius=6))"
   ]
  },
  {
   "cell_type": "markdown",
   "metadata": {},
   "source": [
    "### Distribution of crime in 2006"
   ]
  },
  {
   "cell_type": "code",
   "execution_count": null,
   "metadata": {},
   "outputs": [],
   "source": [
    "m2006"
   ]
  },
  {
   "cell_type": "markdown",
   "metadata": {},
   "source": [
    "### Visualize data by year and district\n",
    "\n",
    "OpenDataPhilly brings us police districts information: https://www.opendataphilly.org/dataset/police-districts/resource/25dfa174-245f-4560-a3ae-0f21a3b59a3d We use geojson format:"
   ]
  },
  {
   "cell_type": "code",
   "execution_count": null,
   "metadata": {},
   "outputs": [],
   "source": [
    "import json\n",
    "with open(\"Boundaries_District.geojson\") as f:\n",
    "    geometry = json.load(f)\n",
    "    \n",
    "district_map = gmaps.Map()\n",
    "geojson_layer = gmaps.geojson_layer(geometry)\n",
    "district_map.add_layer(geojson_layer)\n",
    "district_map"
   ]
  },
  {
   "cell_type": "code",
   "execution_count": null,
   "metadata": {
    "collapsed": true
   },
   "outputs": [],
   "source": [
    "print(geometry['features'][0])"
   ]
  },
  {
   "cell_type": "markdown",
   "metadata": {},
   "source": [
    "Properties encodes meta-information about the feature, like the DIST_NUM. We will use this name to look up a crime value for that country and year and translate that into a colour."
   ]
  },
  {
   "cell_type": "code",
   "execution_count": null,
   "metadata": {
    "collapsed": true
   },
   "outputs": [],
   "source": [
    "pd.pivot_table(data,values=['Value'],index=['Dc_Dist'],columns=['year'],aggfunc='sum',margins=True).xs(2016, level=1, axis=1)"
   ]
  },
  {
   "cell_type": "code",
   "execution_count": null,
   "metadata": {},
   "outputs": [],
   "source": [
    "pd.pivot_table(data,values=['Value'],index=['Dc_Dist'],columns=['year'],aggfunc='sum').xs(2016, level=1, axis=1)['Value']"
   ]
  },
  {
   "cell_type": "code",
   "execution_count": null,
   "metadata": {
    "collapsed": true
   },
   "outputs": [],
   "source": [
    "districtTo2016crimeAmmount = dict(enumerate(pd.pivot_table(data,values=['Value'],index=['Dc_Dist'],columns=['year'],aggfunc='sum').xs(2016, level=1, axis=1)['Value']))"
   ]
  },
  {
   "cell_type": "markdown",
   "metadata": {},
   "source": [
    "We can now use the districtTo2016crimeAmmount to map each district color, we will use [colormap](http://matplotlib.org/api/cm_api.html) to map from our crime amount to a color, we use de [inferno color scale](http://matplotlib.org/examples/color/colormaps_reference.html)"
   ]
  },
  {
   "cell_type": "code",
   "execution_count": null,
   "metadata": {},
   "outputs": [],
   "source": [
    "from matplotlib.cm import inferno\n",
    "from matplotlib.colors import to_hex\n",
    "\n",
    "#We will need to scale the crime value to lie between 0 and 1\n",
    "min_crime = min(districtTo2016crimeAmmount.values())\n",
    "max_crime = max(districtTo2016crimeAmmount.values())\n",
    "\n",
    "crime_range = max_crime - min_crime\n",
    "\n",
    "def calculate_color(crime_amount):\n",
    "    normalized_crime_amount = (crime_amount - min_crime) / crime_range\n",
    "    \n",
    "    #invert crime_amount so than high crime value gives dark color\n",
    "    inverse_crime = 1.0 - normalized_crime_amount\n",
    "    \n",
    "    #transform the crime amount to a matplotlib color\n",
    "    mpl_color = inferno(inverse_crime)\n",
    "    \n",
    "    # to a valid CSS color\n",
    "    gmaps_color = to_hex(mpl_color, keep_alpha = False)\n",
    "    \n",
    "    return gmaps_color\n",
    "\n",
    "colors = []\n",
    "for feature in geometry['features']:\n",
    "    district = feature['properties']['DIST_NUM']\n",
    "    try:\n",
    "        crime_amount = districtTo2016crimeAmmount[district]\n",
    "        color = calculate_color(crime_amount)\n",
    "    except KeyError:\n",
    "        # No crime amount for that country: return default color\n",
    "        color = (0, 0, 0, 0.3)\n",
    "    colors.append(color)\n",
    "    \n",
    "district_map_2016 = gmaps.Map()\n",
    "crime_2016_layer = gmaps.geojson_layer(\n",
    "    geometry,\n",
    "    fill_color=colors,\n",
    "    stroke_color=colors,\n",
    "    fill_opacity=0.8\n",
    ")\n",
    "district_map_2016.add_layer(crime_2016_layer)\n",
    "district_map_2016"
   ]
  }
 ],
 "metadata": {
  "kernelspec": {
   "display_name": "Python 3",
   "language": "python",
   "name": "python3"
  },
  "language_info": {
   "codemirror_mode": {
    "name": "ipython",
    "version": 3
   },
   "file_extension": ".py",
   "mimetype": "text/x-python",
   "name": "python",
   "nbconvert_exporter": "python",
   "pygments_lexer": "ipython3",
   "version": "3.4.5"
  }
 },
 "nbformat": 4,
 "nbformat_minor": 2
}
